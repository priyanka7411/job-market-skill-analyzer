{
 "cells": [
  {
   "cell_type": "code",
   "execution_count": 1,
   "id": "13a4b22d",
   "metadata": {},
   "outputs": [
    {
     "data": {
      "text/html": [
       "<div>\n",
       "<style scoped>\n",
       "    .dataframe tbody tr th:only-of-type {\n",
       "        vertical-align: middle;\n",
       "    }\n",
       "\n",
       "    .dataframe tbody tr th {\n",
       "        vertical-align: top;\n",
       "    }\n",
       "\n",
       "    .dataframe thead th {\n",
       "        text-align: right;\n",
       "    }\n",
       "</style>\n",
       "<table border=\"1\" class=\"dataframe\">\n",
       "  <thead>\n",
       "    <tr style=\"text-align: right;\">\n",
       "      <th></th>\n",
       "      <th>title</th>\n",
       "      <th>company</th>\n",
       "      <th>experience</th>\n",
       "      <th>location</th>\n",
       "      <th>description</th>\n",
       "      <th>skills</th>\n",
       "      <th>posted</th>\n",
       "    </tr>\n",
       "  </thead>\n",
       "  <tbody>\n",
       "    <tr>\n",
       "      <th>0</th>\n",
       "      <td>Analyst</td>\n",
       "      <td>EY</td>\n",
       "      <td>NaN</td>\n",
       "      <td>Bengaluru</td>\n",
       "      <td>NaN</td>\n",
       "      <td>NaN</td>\n",
       "      <td>Starts in 1-3 months</td>\n",
       "    </tr>\n",
       "    <tr>\n",
       "      <th>1</th>\n",
       "      <td>Analyst</td>\n",
       "      <td>Deloitte Consulting</td>\n",
       "      <td>3-6 Yrs</td>\n",
       "      <td>Bengaluru</td>\n",
       "      <td>Provide Level 1 &amp; 2 support for CAD/CAE applic...</td>\n",
       "      <td>PLM, Supply chain, Delmia, HyperMesh, Data man...</td>\n",
       "      <td>4 days ago</td>\n",
       "    </tr>\n",
       "    <tr>\n",
       "      <th>2</th>\n",
       "      <td>Analyst</td>\n",
       "      <td>Goldman Sachs</td>\n",
       "      <td>1-3 Yrs</td>\n",
       "      <td>Bengaluru</td>\n",
       "      <td>Bachelor s degree in a relevant fieldRequired ...</td>\n",
       "      <td>python, project management, confluence, proces...</td>\n",
       "      <td>2 days ago</td>\n",
       "    </tr>\n",
       "    <tr>\n",
       "      <th>3</th>\n",
       "      <td>Analyst</td>\n",
       "      <td>Grant Thornton</td>\n",
       "      <td>0-1 Yrs</td>\n",
       "      <td>Bengaluru</td>\n",
       "      <td>Bachelor / Post Graduation degree along with ....</td>\n",
       "      <td>microsoft office applications, data research, ...</td>\n",
       "      <td>Today</td>\n",
       "    </tr>\n",
       "    <tr>\n",
       "      <th>4</th>\n",
       "      <td>Analyst</td>\n",
       "      <td>Grant Thornton</td>\n",
       "      <td>2-4 Yrs</td>\n",
       "      <td>Bengaluru, Kolkata</td>\n",
       "      <td>Conduct and interact with US team via Skype ca...</td>\n",
       "      <td>analysts, project management, auditing, accoun...</td>\n",
       "      <td>1 day ago</td>\n",
       "    </tr>\n",
       "  </tbody>\n",
       "</table>\n",
       "</div>"
      ],
      "text/plain": [
       "     title              company experience            location  \\\n",
       "0  Analyst                   EY        NaN           Bengaluru   \n",
       "1  Analyst  Deloitte Consulting    3-6 Yrs           Bengaluru   \n",
       "2  Analyst        Goldman Sachs    1-3 Yrs           Bengaluru   \n",
       "3  Analyst       Grant Thornton    0-1 Yrs           Bengaluru   \n",
       "4  Analyst       Grant Thornton    2-4 Yrs  Bengaluru, Kolkata   \n",
       "\n",
       "                                         description  \\\n",
       "0                                                NaN   \n",
       "1  Provide Level 1 & 2 support for CAD/CAE applic...   \n",
       "2  Bachelor s degree in a relevant fieldRequired ...   \n",
       "3  Bachelor / Post Graduation degree along with ....   \n",
       "4  Conduct and interact with US team via Skype ca...   \n",
       "\n",
       "                                              skills                posted  \n",
       "0                                                NaN  Starts in 1-3 months  \n",
       "1  PLM, Supply chain, Delmia, HyperMesh, Data man...            4 days ago  \n",
       "2  python, project management, confluence, proces...            2 days ago  \n",
       "3  microsoft office applications, data research, ...                 Today  \n",
       "4  analysts, project management, auditing, accoun...             1 day ago  "
      ]
     },
     "execution_count": 1,
     "metadata": {},
     "output_type": "execute_result"
    }
   ],
   "source": [
    "import pandas as pd\n",
    "df=pd.read_csv(r\"/Users/priyankamalavade/Desktop/job-market-skill-analyzer/data/raw/naukri_jobs_bengaluru.csv\")\n",
    "df.head()"
   ]
  },
  {
   "cell_type": "code",
   "execution_count": 2,
   "id": "11f9292b",
   "metadata": {},
   "outputs": [
    {
     "name": "stdout",
     "output_type": "stream",
     "text": [
      "<class 'pandas.core.frame.DataFrame'>\n",
      "RangeIndex: 1080 entries, 0 to 1079\n",
      "Data columns (total 7 columns):\n",
      " #   Column       Non-Null Count  Dtype \n",
      "---  ------       --------------  ----- \n",
      " 0   title        1080 non-null   object\n",
      " 1   company      1080 non-null   object\n",
      " 2   experience   1056 non-null   object\n",
      " 3   location     1073 non-null   object\n",
      " 4   description  1062 non-null   object\n",
      " 5   skills       1063 non-null   object\n",
      " 6   posted       1080 non-null   object\n",
      "dtypes: object(7)\n",
      "memory usage: 59.2+ KB\n"
     ]
    }
   ],
   "source": [
    "df.info()"
   ]
  },
  {
   "cell_type": "code",
   "execution_count": 3,
   "id": "71d3f97b",
   "metadata": {},
   "outputs": [
    {
     "data": {
      "text/plain": [
       "title           0\n",
       "company         0\n",
       "experience     24\n",
       "location        7\n",
       "description    18\n",
       "skills         17\n",
       "posted          0\n",
       "dtype: int64"
      ]
     },
     "execution_count": 3,
     "metadata": {},
     "output_type": "execute_result"
    }
   ],
   "source": [
    "df.isnull().sum()"
   ]
  },
  {
   "cell_type": "code",
   "execution_count": 4,
   "id": "87d0280c",
   "metadata": {},
   "outputs": [
    {
     "data": {
      "text/html": [
       "<div>\n",
       "<style scoped>\n",
       "    .dataframe tbody tr th:only-of-type {\n",
       "        vertical-align: middle;\n",
       "    }\n",
       "\n",
       "    .dataframe tbody tr th {\n",
       "        vertical-align: top;\n",
       "    }\n",
       "\n",
       "    .dataframe thead th {\n",
       "        text-align: right;\n",
       "    }\n",
       "</style>\n",
       "<table border=\"1\" class=\"dataframe\">\n",
       "  <thead>\n",
       "    <tr style=\"text-align: right;\">\n",
       "      <th></th>\n",
       "      <th>title</th>\n",
       "      <th>company</th>\n",
       "      <th>experience</th>\n",
       "      <th>location</th>\n",
       "      <th>description</th>\n",
       "      <th>skills</th>\n",
       "      <th>posted</th>\n",
       "    </tr>\n",
       "  </thead>\n",
       "  <tbody>\n",
       "    <tr>\n",
       "      <th>count</th>\n",
       "      <td>1080</td>\n",
       "      <td>1080</td>\n",
       "      <td>1056</td>\n",
       "      <td>1073</td>\n",
       "      <td>1062</td>\n",
       "      <td>1063</td>\n",
       "      <td>1080</td>\n",
       "    </tr>\n",
       "    <tr>\n",
       "      <th>unique</th>\n",
       "      <td>627</td>\n",
       "      <td>401</td>\n",
       "      <td>71</td>\n",
       "      <td>94</td>\n",
       "      <td>917</td>\n",
       "      <td>1003</td>\n",
       "      <td>15</td>\n",
       "    </tr>\n",
       "    <tr>\n",
       "      <th>top</th>\n",
       "      <td>Business Analyst</td>\n",
       "      <td>Accenture</td>\n",
       "      <td>5-10 Yrs</td>\n",
       "      <td>Bengaluru</td>\n",
       "      <td>Qualifications: Any Graduation Skill required:...</td>\n",
       "      <td>customer service, technical support, process c...</td>\n",
       "      <td>3+ weeks ago</td>\n",
       "    </tr>\n",
       "    <tr>\n",
       "      <th>freq</th>\n",
       "      <td>116</td>\n",
       "      <td>144</td>\n",
       "      <td>74</td>\n",
       "      <td>820</td>\n",
       "      <td>22</td>\n",
       "      <td>4</td>\n",
       "      <td>419</td>\n",
       "    </tr>\n",
       "  </tbody>\n",
       "</table>\n",
       "</div>"
      ],
      "text/plain": [
       "                   title    company experience   location  \\\n",
       "count               1080       1080       1056       1073   \n",
       "unique               627        401         71         94   \n",
       "top     Business Analyst  Accenture   5-10 Yrs  Bengaluru   \n",
       "freq                 116        144         74        820   \n",
       "\n",
       "                                              description  \\\n",
       "count                                                1062   \n",
       "unique                                                917   \n",
       "top     Qualifications: Any Graduation Skill required:...   \n",
       "freq                                                   22   \n",
       "\n",
       "                                                   skills        posted  \n",
       "count                                                1063          1080  \n",
       "unique                                               1003            15  \n",
       "top     customer service, technical support, process c...  3+ weeks ago  \n",
       "freq                                                    4           419  "
      ]
     },
     "execution_count": 4,
     "metadata": {},
     "output_type": "execute_result"
    }
   ],
   "source": [
    "df.describe(include=\"all\")"
   ]
  },
  {
   "cell_type": "code",
   "execution_count": 5,
   "id": "f3ad861f",
   "metadata": {},
   "outputs": [
    {
     "data": {
      "text/plain": [
       "title\n",
       "Business Analyst                          116\n",
       "Analyst                                    88\n",
       "Senior Business Analyst                    24\n",
       "Senior Data Analyst                        17\n",
       "Business Interlock Senior Analyst          14\n",
       "Business Interlock Analyst                 12\n",
       "Data Analyst                               12\n",
       "Analyst - L3                                9\n",
       "Business Analyst - L4                       9\n",
       "Data Eng, Mgmt & Governance Sr Analyst      8\n",
       "Name: count, dtype: int64"
      ]
     },
     "execution_count": 5,
     "metadata": {},
     "output_type": "execute_result"
    }
   ],
   "source": [
    "df['title'].value_counts().head(10)"
   ]
  },
  {
   "cell_type": "code",
   "execution_count": 8,
   "id": "a621a0a3",
   "metadata": {},
   "outputs": [
    {
     "data": {
      "text/plain": [
       "location\n",
       "Bengaluru                                                          820\n",
       "Bengaluru, Kolkata, Mumbai, New Delhi, Hyderabad, Pune, Chennai     52\n",
       "Hybrid - Bengaluru                                                  23\n",
       "Bengaluru, Pune, Chennai                                            14\n",
       "Remote                                                               9\n",
       "Bengaluru, Chennai                                                   8\n",
       "Bengaluru, Hyderabad, Chennai                                        7\n",
       "Bengaluru, Hyderabad                                                 7\n",
       "Hybrid - Bengaluru, Pune, Chennai                                    6\n",
       "Hybrid - Bengaluru, Hyderabad, Pune                                  6\n",
       "Name: count, dtype: int64"
      ]
     },
     "execution_count": 8,
     "metadata": {},
     "output_type": "execute_result"
    }
   ],
   "source": [
    "df['location'].value_counts().head(10)"
   ]
  },
  {
   "cell_type": "code",
   "execution_count": 10,
   "id": "05ab49e2",
   "metadata": {},
   "outputs": [
    {
     "data": {
      "text/plain": [
       "experience\n",
       "5-10 Yrs    74\n",
       "3-5 Yrs     69\n",
       "5-8 Yrs     64\n",
       "0-2 Yrs     61\n",
       "3-8 Yrs     59\n",
       "0-1 Yrs     56\n",
       "0-3 Yrs     46\n",
       "1-3 Yrs     44\n",
       "1-4 Yrs     40\n",
       "2-5 Yrs     35\n",
       "Name: count, dtype: int64"
      ]
     },
     "execution_count": 10,
     "metadata": {},
     "output_type": "execute_result"
    }
   ],
   "source": [
    "df[\"experience\"].value_counts().head(10)"
   ]
  },
  {
   "cell_type": "code",
   "execution_count": 11,
   "id": "84658d44",
   "metadata": {},
   "outputs": [],
   "source": [
    "df = df.dropna(subset=[\"skills\"]) "
   ]
  },
  {
   "cell_type": "code",
   "execution_count": 12,
   "id": "1b45ea58",
   "metadata": {},
   "outputs": [
    {
     "name": "stderr",
     "output_type": "stream",
     "text": [
      "/var/folders/04/gq_w2km90pjc_9np76jkv7q80000gn/T/ipykernel_1325/2616163392.py:1: SettingWithCopyWarning: \n",
      "A value is trying to be set on a copy of a slice from a DataFrame.\n",
      "Try using .loc[row_indexer,col_indexer] = value instead\n",
      "\n",
      "See the caveats in the documentation: https://pandas.pydata.org/pandas-docs/stable/user_guide/indexing.html#returning-a-view-versus-a-copy\n",
      "  df['experience'] = df['experience'].fillna(\"0-0 Yrs\")\n"
     ]
    }
   ],
   "source": [
    "df['experience'] = df['experience'].fillna(\"0-0 Yrs\")"
   ]
  },
  {
   "cell_type": "code",
   "execution_count": 13,
   "id": "acd8b4e2",
   "metadata": {},
   "outputs": [
    {
     "name": "stderr",
     "output_type": "stream",
     "text": [
      "/var/folders/04/gq_w2km90pjc_9np76jkv7q80000gn/T/ipykernel_1325/777869847.py:1: SettingWithCopyWarning: \n",
      "A value is trying to be set on a copy of a slice from a DataFrame.\n",
      "Try using .loc[row_indexer,col_indexer] = value instead\n",
      "\n",
      "See the caveats in the documentation: https://pandas.pydata.org/pandas-docs/stable/user_guide/indexing.html#returning-a-view-versus-a-copy\n",
      "  df['location'] = df['location'].fillna(\"Unknown\")\n",
      "/var/folders/04/gq_w2km90pjc_9np76jkv7q80000gn/T/ipykernel_1325/777869847.py:2: SettingWithCopyWarning: \n",
      "A value is trying to be set on a copy of a slice from a DataFrame.\n",
      "Try using .loc[row_indexer,col_indexer] = value instead\n",
      "\n",
      "See the caveats in the documentation: https://pandas.pydata.org/pandas-docs/stable/user_guide/indexing.html#returning-a-view-versus-a-copy\n",
      "  df['description'] = df['description'].fillna(\"\")\n"
     ]
    }
   ],
   "source": [
    "df['location'] = df['location'].fillna(\"Unknown\")\n",
    "df['description'] = df['description'].fillna(\"\")"
   ]
  },
  {
   "cell_type": "code",
   "execution_count": 16,
   "id": "27a30de8",
   "metadata": {},
   "outputs": [],
   "source": [
    "import re\n",
    "def parse_experience(exp):\n",
    "    exp = str(exp)\n",
    "    match = re.findall(r\"(\\d+)\", exp)\n",
    "    if len(match) == 1:\n",
    "        return (int(match[0]), int(match[0]))\n",
    "    elif len(match) == 2:\n",
    "        return (int(match[0]), int(match[1]))\n",
    "    return (None, None)\n"
   ]
  },
  {
   "cell_type": "code",
   "execution_count": 17,
   "id": "89e57c7b",
   "metadata": {},
   "outputs": [
    {
     "name": "stderr",
     "output_type": "stream",
     "text": [
      "/var/folders/04/gq_w2km90pjc_9np76jkv7q80000gn/T/ipykernel_1325/389477743.py:1: SettingWithCopyWarning: \n",
      "A value is trying to be set on a copy of a slice from a DataFrame.\n",
      "Try using .loc[row_indexer,col_indexer] = value instead\n",
      "\n",
      "See the caveats in the documentation: https://pandas.pydata.org/pandas-docs/stable/user_guide/indexing.html#returning-a-view-versus-a-copy\n",
      "  df[['min_exp', 'max_exp']] = df['experience'].apply(parse_experience).apply(pd.Series)\n",
      "/var/folders/04/gq_w2km90pjc_9np76jkv7q80000gn/T/ipykernel_1325/389477743.py:1: SettingWithCopyWarning: \n",
      "A value is trying to be set on a copy of a slice from a DataFrame.\n",
      "Try using .loc[row_indexer,col_indexer] = value instead\n",
      "\n",
      "See the caveats in the documentation: https://pandas.pydata.org/pandas-docs/stable/user_guide/indexing.html#returning-a-view-versus-a-copy\n",
      "  df[['min_exp', 'max_exp']] = df['experience'].apply(parse_experience).apply(pd.Series)\n"
     ]
    }
   ],
   "source": [
    "df[['min_exp', 'max_exp']] = df['experience'].apply(parse_experience).apply(pd.Series)\n"
   ]
  },
  {
   "cell_type": "code",
   "execution_count": 19,
   "id": "4ebaafe3",
   "metadata": {},
   "outputs": [
    {
     "data": {
      "text/html": [
       "<div>\n",
       "<style scoped>\n",
       "    .dataframe tbody tr th:only-of-type {\n",
       "        vertical-align: middle;\n",
       "    }\n",
       "\n",
       "    .dataframe tbody tr th {\n",
       "        vertical-align: top;\n",
       "    }\n",
       "\n",
       "    .dataframe thead th {\n",
       "        text-align: right;\n",
       "    }\n",
       "</style>\n",
       "<table border=\"1\" class=\"dataframe\">\n",
       "  <thead>\n",
       "    <tr style=\"text-align: right;\">\n",
       "      <th></th>\n",
       "      <th>min_exp</th>\n",
       "      <th>max_exp</th>\n",
       "    </tr>\n",
       "  </thead>\n",
       "  <tbody>\n",
       "    <tr>\n",
       "      <th>1</th>\n",
       "      <td>3</td>\n",
       "      <td>6</td>\n",
       "    </tr>\n",
       "    <tr>\n",
       "      <th>2</th>\n",
       "      <td>1</td>\n",
       "      <td>3</td>\n",
       "    </tr>\n",
       "    <tr>\n",
       "      <th>3</th>\n",
       "      <td>0</td>\n",
       "      <td>1</td>\n",
       "    </tr>\n",
       "    <tr>\n",
       "      <th>4</th>\n",
       "      <td>2</td>\n",
       "      <td>4</td>\n",
       "    </tr>\n",
       "    <tr>\n",
       "      <th>5</th>\n",
       "      <td>0</td>\n",
       "      <td>1</td>\n",
       "    </tr>\n",
       "  </tbody>\n",
       "</table>\n",
       "</div>"
      ],
      "text/plain": [
       "   min_exp  max_exp\n",
       "1        3        6\n",
       "2        1        3\n",
       "3        0        1\n",
       "4        2        4\n",
       "5        0        1"
      ]
     },
     "execution_count": 19,
     "metadata": {},
     "output_type": "execute_result"
    }
   ],
   "source": [
    "df[['min_exp', 'max_exp']].head()"
   ]
  },
  {
   "cell_type": "code",
   "execution_count": 20,
   "id": "c1e1ec61",
   "metadata": {},
   "outputs": [
    {
     "name": "stderr",
     "output_type": "stream",
     "text": [
      "/var/folders/04/gq_w2km90pjc_9np76jkv7q80000gn/T/ipykernel_1325/3443116335.py:1: SettingWithCopyWarning: \n",
      "A value is trying to be set on a copy of a slice from a DataFrame.\n",
      "Try using .loc[row_indexer,col_indexer] = value instead\n",
      "\n",
      "See the caveats in the documentation: https://pandas.pydata.org/pandas-docs/stable/user_guide/indexing.html#returning-a-view-versus-a-copy\n",
      "  df['skills'] = df['skills'].apply(lambda x: [s.strip().lower() for s in str(x).split(\",\") if s.strip()])\n"
     ]
    }
   ],
   "source": [
    "df['skills'] = df['skills'].apply(lambda x: [s.strip().lower() for s in str(x).split(\",\") if s.strip()])\n"
   ]
  },
  {
   "cell_type": "code",
   "execution_count": 22,
   "id": "f2743aae",
   "metadata": {},
   "outputs": [
    {
     "data": {
      "text/plain": [
       "1    [plm, supply chain, delmia, hypermesh, data ma...\n",
       "2    [python, project management, confluence, proce...\n",
       "Name: skills, dtype: object"
      ]
     },
     "execution_count": 22,
     "metadata": {},
     "output_type": "execute_result"
    }
   ],
   "source": [
    "df['skills'].head(2)"
   ]
  },
  {
   "cell_type": "code",
   "execution_count": 23,
   "id": "c2541bd2",
   "metadata": {},
   "outputs": [],
   "source": [
    "def parse_posted(x):\n",
    "    x = str(x).lower()\n",
    "    if \"today\" in x: return 0\n",
    "    if \"day\" in x: return int(re.search(r\"(\\d+)\", x).group())\n",
    "    if \"week\" in x: return int(re.search(r\"(\\d+)\", x).group()) * 7\n",
    "    if \"month\" in x: return int(re.search(r\"(\\d+)\", x).group()) * 30\n",
    "    return None\n"
   ]
  },
  {
   "cell_type": "code",
   "execution_count": 24,
   "id": "c83ff16d",
   "metadata": {},
   "outputs": [
    {
     "name": "stderr",
     "output_type": "stream",
     "text": [
      "/var/folders/04/gq_w2km90pjc_9np76jkv7q80000gn/T/ipykernel_1325/3468899511.py:1: SettingWithCopyWarning: \n",
      "A value is trying to be set on a copy of a slice from a DataFrame.\n",
      "Try using .loc[row_indexer,col_indexer] = value instead\n",
      "\n",
      "See the caveats in the documentation: https://pandas.pydata.org/pandas-docs/stable/user_guide/indexing.html#returning-a-view-versus-a-copy\n",
      "  df['posted_days'] = df['posted'].apply(parse_posted)\n"
     ]
    }
   ],
   "source": [
    "df['posted_days'] = df['posted'].apply(parse_posted)\n"
   ]
  },
  {
   "cell_type": "code",
   "execution_count": 26,
   "id": "236fadeb",
   "metadata": {},
   "outputs": [
    {
     "data": {
      "text/plain": [
       "1    4.0\n",
       "2    2.0\n",
       "3    0.0\n",
       "4    1.0\n",
       "5    1.0\n",
       "Name: posted_days, dtype: float64"
      ]
     },
     "execution_count": 26,
     "metadata": {},
     "output_type": "execute_result"
    }
   ],
   "source": [
    "df['posted_days'].head()"
   ]
  },
  {
   "cell_type": "code",
   "execution_count": 27,
   "id": "a522625a",
   "metadata": {},
   "outputs": [
    {
     "name": "stderr",
     "output_type": "stream",
     "text": [
      "/var/folders/04/gq_w2km90pjc_9np76jkv7q80000gn/T/ipykernel_1325/1194678490.py:1: SettingWithCopyWarning: \n",
      "A value is trying to be set on a copy of a slice from a DataFrame.\n",
      "Try using .loc[row_indexer,col_indexer] = value instead\n",
      "\n",
      "See the caveats in the documentation: https://pandas.pydata.org/pandas-docs/stable/user_guide/indexing.html#returning-a-view-versus-a-copy\n",
      "  df['location'] = df['location'].apply(lambda x: [loc.strip() for loc in str(x).split(\",\")])\n"
     ]
    }
   ],
   "source": [
    "df['location'] = df['location'].apply(lambda x: [loc.strip() for loc in str(x).split(\",\")])\n"
   ]
  },
  {
   "cell_type": "code",
   "execution_count": 29,
   "id": "c216137e",
   "metadata": {},
   "outputs": [
    {
     "data": {
      "text/plain": [
       "1              [Bengaluru]\n",
       "2              [Bengaluru]\n",
       "3              [Bengaluru]\n",
       "4     [Bengaluru, Kolkata]\n",
       "5              [Bengaluru]\n",
       "6              [Bengaluru]\n",
       "7              [Bengaluru]\n",
       "8              [Bengaluru]\n",
       "9              [Bengaluru]\n",
       "10             [Bengaluru]\n",
       "Name: location, dtype: object"
      ]
     },
     "execution_count": 29,
     "metadata": {},
     "output_type": "execute_result"
    }
   ],
   "source": [
    "df['location'].head(10)"
   ]
  },
  {
   "cell_type": "code",
   "execution_count": 30,
   "id": "ba4307d7",
   "metadata": {},
   "outputs": [],
   "source": [
    "df_clean = df[['title', 'company', 'min_exp', 'max_exp', 'location', 'skills', 'posted_days']]\n"
   ]
  },
  {
   "cell_type": "code",
   "execution_count": 31,
   "id": "5a08851a",
   "metadata": {},
   "outputs": [
    {
     "name": "stdout",
     "output_type": "stream",
     "text": [
      " Data cleaning complete! Saved to data/processed_jobs.csv\n"
     ]
    }
   ],
   "source": [
    "df_clean.to_csv(\"/Users/priyankamalavade/Desktop/job-market-skill-analyzer/data/processed/processed_jobs.csv\", index=False)\n",
    "print(\" Data cleaning complete! Saved to data/processed_jobs.csv\")\n"
   ]
  }
 ],
 "metadata": {
  "kernelspec": {
   "display_name": "venv",
   "language": "python",
   "name": "python3"
  },
  "language_info": {
   "codemirror_mode": {
    "name": "ipython",
    "version": 3
   },
   "file_extension": ".py",
   "mimetype": "text/x-python",
   "name": "python",
   "nbconvert_exporter": "python",
   "pygments_lexer": "ipython3",
   "version": "3.13.7"
  }
 },
 "nbformat": 4,
 "nbformat_minor": 5
}
