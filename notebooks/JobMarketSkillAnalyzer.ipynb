{
 "cells": [
  {
   "cell_type": "markdown",
   "id": "f3eb5ba5",
   "metadata": {},
   "source": [
    "In this step, we will use **Selenium + ChromeDriver** to scrape job postings from [Naukri.com](https://www.naukri.com).  \n",
    "The key tasks are:\n",
    "- Open Naukri job search page\n",
    "- Extract job details (title, company, location, experience, description, skills, posted date)\n",
    "- Handle pagination (multiple pages of results)\n",
    "- Save data into `data/raw/job_postings.csv`\n",
    "\n",
    "If live scraping fails, we will generate a **sample dataset** for testing further steps.\n"
   ]
  },
  {
   "cell_type": "code",
   "execution_count": 1,
   "id": "68b93bec",
   "metadata": {},
   "outputs": [
    {
     "name": "stdout",
     "output_type": "stream",
     "text": [
      "Requirement already satisfied: selenium in /Users/priyankamalavade/Desktop/job-market-skill-analyzer/venv/lib/python3.13/site-packages (4.35.0)\n",
      "Requirement already satisfied: pandas in /Users/priyankamalavade/Desktop/job-market-skill-analyzer/venv/lib/python3.13/site-packages (2.3.2)\n",
      "Requirement already satisfied: duckdb in /Users/priyankamalavade/Desktop/job-market-skill-analyzer/venv/lib/python3.13/site-packages (1.4.0)\n",
      "Requirement already satisfied: urllib3<3.0,>=2.5.0 in /Users/priyankamalavade/Desktop/job-market-skill-analyzer/venv/lib/python3.13/site-packages (from urllib3[socks]<3.0,>=2.5.0->selenium) (2.5.0)\n",
      "Requirement already satisfied: trio~=0.30.0 in /Users/priyankamalavade/Desktop/job-market-skill-analyzer/venv/lib/python3.13/site-packages (from selenium) (0.30.0)\n",
      "Requirement already satisfied: trio-websocket~=0.12.2 in /Users/priyankamalavade/Desktop/job-market-skill-analyzer/venv/lib/python3.13/site-packages (from selenium) (0.12.2)\n",
      "Requirement already satisfied: certifi>=2025.6.15 in /Users/priyankamalavade/Desktop/job-market-skill-analyzer/venv/lib/python3.13/site-packages (from selenium) (2025.8.3)\n",
      "Requirement already satisfied: typing_extensions~=4.14.0 in /Users/priyankamalavade/Desktop/job-market-skill-analyzer/venv/lib/python3.13/site-packages (from selenium) (4.14.1)\n",
      "Requirement already satisfied: websocket-client~=1.8.0 in /Users/priyankamalavade/Desktop/job-market-skill-analyzer/venv/lib/python3.13/site-packages (from selenium) (1.8.0)\n",
      "Requirement already satisfied: attrs>=23.2.0 in /Users/priyankamalavade/Desktop/job-market-skill-analyzer/venv/lib/python3.13/site-packages (from trio~=0.30.0->selenium) (25.3.0)\n",
      "Requirement already satisfied: sortedcontainers in /Users/priyankamalavade/Desktop/job-market-skill-analyzer/venv/lib/python3.13/site-packages (from trio~=0.30.0->selenium) (2.4.0)\n",
      "Requirement already satisfied: idna in /Users/priyankamalavade/Desktop/job-market-skill-analyzer/venv/lib/python3.13/site-packages (from trio~=0.30.0->selenium) (3.10)\n",
      "Requirement already satisfied: outcome in /Users/priyankamalavade/Desktop/job-market-skill-analyzer/venv/lib/python3.13/site-packages (from trio~=0.30.0->selenium) (1.3.0.post0)\n",
      "Requirement already satisfied: sniffio>=1.3.0 in /Users/priyankamalavade/Desktop/job-market-skill-analyzer/venv/lib/python3.13/site-packages (from trio~=0.30.0->selenium) (1.3.1)\n",
      "Requirement already satisfied: wsproto>=0.14 in /Users/priyankamalavade/Desktop/job-market-skill-analyzer/venv/lib/python3.13/site-packages (from trio-websocket~=0.12.2->selenium) (1.2.0)\n",
      "Requirement already satisfied: pysocks!=1.5.7,<2.0,>=1.5.6 in /Users/priyankamalavade/Desktop/job-market-skill-analyzer/venv/lib/python3.13/site-packages (from urllib3[socks]<3.0,>=2.5.0->selenium) (1.7.1)\n",
      "Requirement already satisfied: numpy>=1.26.0 in /Users/priyankamalavade/Desktop/job-market-skill-analyzer/venv/lib/python3.13/site-packages (from pandas) (2.3.3)\n",
      "Requirement already satisfied: python-dateutil>=2.8.2 in /Users/priyankamalavade/Desktop/job-market-skill-analyzer/venv/lib/python3.13/site-packages (from pandas) (2.9.0.post0)\n",
      "Requirement already satisfied: pytz>=2020.1 in /Users/priyankamalavade/Desktop/job-market-skill-analyzer/venv/lib/python3.13/site-packages (from pandas) (2025.2)\n",
      "Requirement already satisfied: tzdata>=2022.7 in /Users/priyankamalavade/Desktop/job-market-skill-analyzer/venv/lib/python3.13/site-packages (from pandas) (2025.2)\n",
      "Requirement already satisfied: six>=1.5 in /Users/priyankamalavade/Desktop/job-market-skill-analyzer/venv/lib/python3.13/site-packages (from python-dateutil>=2.8.2->pandas) (1.17.0)\n",
      "Requirement already satisfied: h11<1,>=0.9.0 in /Users/priyankamalavade/Desktop/job-market-skill-analyzer/venv/lib/python3.13/site-packages (from wsproto>=0.14->trio-websocket~=0.12.2->selenium) (0.16.0)\n"
     ]
    }
   ],
   "source": [
    "! pip install selenium pandas duckdb "
   ]
  },
  {
   "cell_type": "code",
   "execution_count": 2,
   "id": "5d294753",
   "metadata": {},
   "outputs": [
    {
     "name": "stdout",
     "output_type": "stream",
     "text": [
      "Requirement already satisfied: webdriver_manager in /Users/priyankamalavade/Desktop/job-market-skill-analyzer/venv/lib/python3.13/site-packages (4.0.2)\n",
      "Requirement already satisfied: requests in /Users/priyankamalavade/Desktop/job-market-skill-analyzer/venv/lib/python3.13/site-packages (from webdriver_manager) (2.32.5)\n",
      "Requirement already satisfied: python-dotenv in /Users/priyankamalavade/Desktop/job-market-skill-analyzer/venv/lib/python3.13/site-packages (from webdriver_manager) (1.1.1)\n",
      "Requirement already satisfied: packaging in /Users/priyankamalavade/Desktop/job-market-skill-analyzer/venv/lib/python3.13/site-packages (from webdriver_manager) (25.0)\n",
      "Requirement already satisfied: charset_normalizer<4,>=2 in /Users/priyankamalavade/Desktop/job-market-skill-analyzer/venv/lib/python3.13/site-packages (from requests->webdriver_manager) (3.4.3)\n",
      "Requirement already satisfied: idna<4,>=2.5 in /Users/priyankamalavade/Desktop/job-market-skill-analyzer/venv/lib/python3.13/site-packages (from requests->webdriver_manager) (3.10)\n",
      "Requirement already satisfied: urllib3<3,>=1.21.1 in /Users/priyankamalavade/Desktop/job-market-skill-analyzer/venv/lib/python3.13/site-packages (from requests->webdriver_manager) (2.5.0)\n",
      "Requirement already satisfied: certifi>=2017.4.17 in /Users/priyankamalavade/Desktop/job-market-skill-analyzer/venv/lib/python3.13/site-packages (from requests->webdriver_manager) (2025.8.3)\n"
     ]
    }
   ],
   "source": [
    "! pip install webdriver_manager"
   ]
  },
  {
   "cell_type": "code",
   "execution_count": 3,
   "id": "4e413e6b",
   "metadata": {},
   "outputs": [],
   "source": [
    "# Imports\n",
    "import time\n",
    "import pandas as pd\n",
    "from selenium import webdriver\n",
    "from selenium.webdriver.common.by import By\n",
    "from selenium.webdriver.chrome.service import Service\n",
    "from selenium.webdriver.common.keys import Keys\n",
    "from webdriver_manager.chrome import ChromeDriverManager"
   ]
  },
  {
   "cell_type": "code",
   "execution_count": 4,
   "id": "aab9c569",
   "metadata": {},
   "outputs": [],
   "source": [
    "# Setup ChromeDriver\n",
    "options = webdriver.ChromeOptions()\n",
    "options.add_argument(\"--start-maximized\")\n",
    "options.add_argument(\"--disable-blink-features=AutomationControlled\")  # avoid detection\n"
   ]
  },
  {
   "cell_type": "code",
   "execution_count": 5,
   "id": "db209a81",
   "metadata": {},
   "outputs": [],
   "source": [
    "# Initialize driver\n",
    "driver = webdriver.Chrome(service=Service(ChromeDriverManager().install()), options=options)\n"
   ]
  },
  {
   "cell_type": "code",
   "execution_count": 6,
   "id": "3d4a81df",
   "metadata": {},
   "outputs": [],
   "source": [
    "# Navigate to Naukri job search page\n",
    "url = \"https://www.naukri.com/analyst-jobs-in-bengaluru\"\n",
    "driver.get(url)"
   ]
  },
  {
   "cell_type": "code",
   "execution_count": 7,
   "id": "5bbde730",
   "metadata": {},
   "outputs": [
    {
     "name": "stdout",
     "output_type": "stream",
     "text": [
      "Page Title: Analyst Jobs In Bengaluru - 40589 Analyst Job Vacancies In Bengaluru - Naukri.com\n"
     ]
    }
   ],
   "source": [
    "time.sleep(5)  # wait for page to load\n",
    "print(\"Page Title:\", driver.title)"
   ]
  },
  {
   "cell_type": "code",
   "execution_count": 8,
   "id": "8884a4d4",
   "metadata": {},
   "outputs": [
    {
     "name": "stdout",
     "output_type": "stream",
     "text": [
      "Jobs found on page: 20\n"
     ]
    }
   ],
   "source": [
    "# Find all job cards on the page\n",
    "job_cards = driver.find_elements(By.CLASS_NAME, \"cust-job-tuple\")\n",
    "\n",
    "print(\"Jobs found on page:\", len(job_cards))\n",
    "\n"
   ]
  },
  {
   "cell_type": "code",
   "execution_count": 9,
   "id": "49693348",
   "metadata": {},
   "outputs": [],
   "source": [
    "jobs_data = []"
   ]
  },
  {
   "cell_type": "code",
   "execution_count": 10,
   "id": "604f2888",
   "metadata": {},
   "outputs": [],
   "source": [
    "for job in job_cards:\n",
    "    try:\n",
    "        title = job.find_element(By.CSS_SELECTOR, \"a.title\").text\n",
    "    except:\n",
    "        title = None\n",
    "\n",
    "    try:\n",
    "        company = job.find_element(By.CSS_SELECTOR, \"a.comp-name\").text\n",
    "    except:\n",
    "        company = None\n",
    "\n",
    "    try:\n",
    "        exp = job.find_element(By.CSS_SELECTOR, \"span.expwdth\").text\n",
    "    except:\n",
    "        exp = None\n",
    "\n",
    "    try:\n",
    "        location = job.find_element(By.CSS_SELECTOR, \"span.locWdth\").text\n",
    "    except:\n",
    "        location = None\n",
    "\n",
    "    try:\n",
    "        desc = job.find_element(By.CSS_SELECTOR, \"span.job-desc\").text\n",
    "    except:\n",
    "        desc = None\n",
    "\n",
    "    try:\n",
    "        skills = [li.text for li in job.find_elements(By.CSS_SELECTOR, \"ul.tags-gt li\")]\n",
    "        skills = \", \".join(skills)\n",
    "    except:\n",
    "        skills = None\n",
    "\n",
    "    try:\n",
    "        posted = job.find_element(By.CSS_SELECTOR, \"span.job-post-day\").text\n",
    "    except:\n",
    "        posted = None\n",
    "\n",
    "    jobs_data.append({\n",
    "        \"title\": title,\n",
    "        \"company\": company,\n",
    "        \"experience\": exp,\n",
    "        \"location\": location,\n",
    "        \"description\": desc,\n",
    "        \"skills\": skills,\n",
    "        \"posted\": posted\n",
    "    })\n"
   ]
  },
  {
   "cell_type": "code",
   "execution_count": 11,
   "id": "a604ca72",
   "metadata": {},
   "outputs": [
    {
     "data": {
      "text/html": [
       "<div>\n",
       "<style scoped>\n",
       "    .dataframe tbody tr th:only-of-type {\n",
       "        vertical-align: middle;\n",
       "    }\n",
       "\n",
       "    .dataframe tbody tr th {\n",
       "        vertical-align: top;\n",
       "    }\n",
       "\n",
       "    .dataframe thead th {\n",
       "        text-align: right;\n",
       "    }\n",
       "</style>\n",
       "<table border=\"1\" class=\"dataframe\">\n",
       "  <thead>\n",
       "    <tr style=\"text-align: right;\">\n",
       "      <th></th>\n",
       "      <th>title</th>\n",
       "      <th>company</th>\n",
       "      <th>experience</th>\n",
       "      <th>location</th>\n",
       "      <th>description</th>\n",
       "      <th>skills</th>\n",
       "      <th>posted</th>\n",
       "    </tr>\n",
       "  </thead>\n",
       "  <tbody>\n",
       "    <tr>\n",
       "      <th>0</th>\n",
       "      <td>Analyst</td>\n",
       "      <td>EY</td>\n",
       "      <td>None</td>\n",
       "      <td>Bengaluru</td>\n",
       "      <td>None</td>\n",
       "      <td></td>\n",
       "      <td>Starts in 1-3 months</td>\n",
       "    </tr>\n",
       "    <tr>\n",
       "      <th>1</th>\n",
       "      <td>Analyst</td>\n",
       "      <td>Deloitte Consulting</td>\n",
       "      <td>3-6 Yrs</td>\n",
       "      <td>Bengaluru</td>\n",
       "      <td>Provide Level 1 &amp; 2 support for CAD/CAE applic...</td>\n",
       "      <td>PLM, Supply chain, Delmia, HyperMesh, Data man...</td>\n",
       "      <td>4 days ago</td>\n",
       "    </tr>\n",
       "    <tr>\n",
       "      <th>2</th>\n",
       "      <td>Analyst</td>\n",
       "      <td>Goldman Sachs</td>\n",
       "      <td>1-3 Yrs</td>\n",
       "      <td>Bengaluru</td>\n",
       "      <td>Bachelor s degree in a relevant fieldRequired ...</td>\n",
       "      <td>python, project management, confluence, proces...</td>\n",
       "      <td>2 days ago</td>\n",
       "    </tr>\n",
       "    <tr>\n",
       "      <th>3</th>\n",
       "      <td>Analyst</td>\n",
       "      <td>Grant Thornton</td>\n",
       "      <td>0-1 Yrs</td>\n",
       "      <td>Bengaluru</td>\n",
       "      <td>Bachelor / Post Graduation degree along with ....</td>\n",
       "      <td>microsoft office applications, data research, ...</td>\n",
       "      <td>Today</td>\n",
       "    </tr>\n",
       "    <tr>\n",
       "      <th>4</th>\n",
       "      <td>Analyst</td>\n",
       "      <td>Grant Thornton</td>\n",
       "      <td>2-4 Yrs</td>\n",
       "      <td>Bengaluru, Kolkata</td>\n",
       "      <td>Conduct and interact with US team via Skype ca...</td>\n",
       "      <td>analysts, project management, auditing, accoun...</td>\n",
       "      <td>1 day ago</td>\n",
       "    </tr>\n",
       "  </tbody>\n",
       "</table>\n",
       "</div>"
      ],
      "text/plain": [
       "     title              company experience            location  \\\n",
       "0  Analyst                   EY       None           Bengaluru   \n",
       "1  Analyst  Deloitte Consulting    3-6 Yrs           Bengaluru   \n",
       "2  Analyst        Goldman Sachs    1-3 Yrs           Bengaluru   \n",
       "3  Analyst       Grant Thornton    0-1 Yrs           Bengaluru   \n",
       "4  Analyst       Grant Thornton    2-4 Yrs  Bengaluru, Kolkata   \n",
       "\n",
       "                                         description  \\\n",
       "0                                               None   \n",
       "1  Provide Level 1 & 2 support for CAD/CAE applic...   \n",
       "2  Bachelor s degree in a relevant fieldRequired ...   \n",
       "3  Bachelor / Post Graduation degree along with ....   \n",
       "4  Conduct and interact with US team via Skype ca...   \n",
       "\n",
       "                                              skills                posted  \n",
       "0                                                     Starts in 1-3 months  \n",
       "1  PLM, Supply chain, Delmia, HyperMesh, Data man...            4 days ago  \n",
       "2  python, project management, confluence, proces...            2 days ago  \n",
       "3  microsoft office applications, data research, ...                 Today  \n",
       "4  analysts, project management, auditing, accoun...             1 day ago  "
      ]
     },
     "execution_count": 11,
     "metadata": {},
     "output_type": "execute_result"
    }
   ],
   "source": [
    "# Convert to DataFrame\n",
    "df_page1 = pd.DataFrame(jobs_data)\n",
    "df_page1.head()"
   ]
  },
  {
   "cell_type": "code",
   "execution_count": 12,
   "id": "54b4a384",
   "metadata": {},
   "outputs": [],
   "source": [
    "all_jobs = []"
   ]
  },
  {
   "cell_type": "code",
   "execution_count": 13,
   "id": "c84f3e76",
   "metadata": {},
   "outputs": [
    {
     "name": "stdout",
     "output_type": "stream",
     "text": [
      "Page 1 - Jobs found: 20\n",
      "Page 2 - Jobs found: 20\n",
      "Page 3 - Jobs found: 20\n",
      "Page 4 - Jobs found: 20\n",
      "Page 5 - Jobs found: 20\n",
      "Page 6 - Jobs found: 20\n",
      "Page 7 - Jobs found: 20\n",
      "Page 8 - Jobs found: 20\n",
      "Page 9 - Jobs found: 20\n",
      "Page 10 - Jobs found: 20\n",
      "Page 11 - Jobs found: 20\n",
      "Page 12 - Jobs found: 20\n",
      "Page 13 - Jobs found: 20\n",
      "Page 14 - Jobs found: 20\n",
      "Page 15 - Jobs found: 20\n",
      "Page 16 - Jobs found: 20\n",
      "Page 17 - Jobs found: 20\n",
      "Page 18 - Jobs found: 20\n",
      "Page 19 - Jobs found: 20\n",
      "Page 20 - Jobs found: 20\n",
      "Page 21 - Jobs found: 20\n",
      "Page 22 - Jobs found: 20\n",
      "Page 23 - Jobs found: 20\n",
      "Page 24 - Jobs found: 20\n",
      "Page 25 - Jobs found: 20\n",
      "Page 26 - Jobs found: 20\n",
      "Page 27 - Jobs found: 20\n",
      "Page 28 - Jobs found: 20\n",
      "Page 29 - Jobs found: 20\n",
      "Page 30 - Jobs found: 20\n",
      "Page 31 - Jobs found: 20\n",
      "Page 32 - Jobs found: 20\n",
      "Page 33 - Jobs found: 20\n",
      "Page 34 - Jobs found: 20\n",
      "Page 35 - Jobs found: 20\n",
      "Page 36 - Jobs found: 20\n",
      "Page 37 - Jobs found: 20\n",
      "Page 38 - Jobs found: 20\n",
      "Page 39 - Jobs found: 20\n",
      "Page 40 - Jobs found: 20\n",
      "Page 41 - Jobs found: 20\n",
      "Page 42 - Jobs found: 20\n",
      "Page 43 - Jobs found: 20\n",
      "Page 44 - Jobs found: 20\n",
      "Page 45 - Jobs found: 20\n",
      "Page 46 - Jobs found: 20\n",
      "Page 47 - Jobs found: 20\n",
      "Page 48 - Jobs found: 20\n",
      "Page 49 - Jobs found: 20\n",
      "Page 50 - Jobs found: 20\n",
      "Page 51 - Jobs found: 20\n",
      "Page 52 - Jobs found: 20\n",
      "Page 53 - Jobs found: 20\n",
      "Page 54 - Jobs found: 20\n"
     ]
    }
   ],
   "source": [
    "# Let's scrape first 5 pages\n",
    "for page in range(1, 55):\n",
    "    url = f\"https://www.naukri.com/analyst-jobs-in-bengaluru-{page}\" if page > 1 else \"https://www.naukri.com/analyst-jobs-in-bengaluru\"\n",
    "    driver.get(url)\n",
    "    time.sleep(5)  # let page load\n",
    "    \n",
    "    job_cards = driver.find_elements(By.CLASS_NAME, \"cust-job-tuple\")\n",
    "    print(f\"Page {page} - Jobs found:\", len(job_cards))\n",
    "    \n",
    "    for job in job_cards:\n",
    "        try:\n",
    "            title = job.find_element(By.CSS_SELECTOR, \"a.title\").text\n",
    "        except:\n",
    "            title = None\n",
    "\n",
    "        try:\n",
    "            company = job.find_element(By.CSS_SELECTOR, \"a.comp-name\").text\n",
    "        except:\n",
    "            company = None\n",
    "\n",
    "        try:\n",
    "            exp = job.find_element(By.CSS_SELECTOR, \"span.expwdth\").text\n",
    "        except:\n",
    "            exp = None\n",
    "\n",
    "        try:\n",
    "            location = job.find_element(By.CSS_SELECTOR, \"span.locWdth\").text\n",
    "        except:\n",
    "            location = None\n",
    "\n",
    "        try:\n",
    "            desc = job.find_element(By.CSS_SELECTOR, \"span.job-desc\").text\n",
    "        except:\n",
    "            desc = None\n",
    "\n",
    "        try:\n",
    "            skills = [li.text for li in job.find_elements(By.CSS_SELECTOR, \"ul.tags-gt li\")]\n",
    "            skills = \", \".join(skills)\n",
    "        except:\n",
    "            skills = None\n",
    "\n",
    "        try:\n",
    "            posted = job.find_element(By.CSS_SELECTOR, \"span.job-post-day\").text\n",
    "        except:\n",
    "            posted = None\n",
    "\n",
    "        all_jobs.append({\n",
    "            \"title\": title,\n",
    "            \"company\": company,\n",
    "            \"experience\": exp,\n",
    "            \"location\": location,\n",
    "            \"description\": desc,\n",
    "            \"skills\": skills,\n",
    "            \"posted\": posted\n",
    "        })\n"
   ]
  },
  {
   "cell_type": "code",
   "execution_count": 14,
   "id": "7a39f37b",
   "metadata": {},
   "outputs": [],
   "source": [
    "# Quit after loop\n",
    "driver.quit()\n"
   ]
  },
  {
   "cell_type": "code",
   "execution_count": 15,
   "id": "b227f043",
   "metadata": {},
   "outputs": [],
   "source": [
    "# Convert to DataFrame\n",
    "df = pd.DataFrame(all_jobs)\n"
   ]
  },
  {
   "cell_type": "code",
   "execution_count": 16,
   "id": "91f8c253",
   "metadata": {},
   "outputs": [
    {
     "data": {
      "text/html": [
       "<div>\n",
       "<style scoped>\n",
       "    .dataframe tbody tr th:only-of-type {\n",
       "        vertical-align: middle;\n",
       "    }\n",
       "\n",
       "    .dataframe tbody tr th {\n",
       "        vertical-align: top;\n",
       "    }\n",
       "\n",
       "    .dataframe thead th {\n",
       "        text-align: right;\n",
       "    }\n",
       "</style>\n",
       "<table border=\"1\" class=\"dataframe\">\n",
       "  <thead>\n",
       "    <tr style=\"text-align: right;\">\n",
       "      <th></th>\n",
       "      <th>title</th>\n",
       "      <th>company</th>\n",
       "      <th>experience</th>\n",
       "      <th>location</th>\n",
       "      <th>description</th>\n",
       "      <th>skills</th>\n",
       "      <th>posted</th>\n",
       "    </tr>\n",
       "  </thead>\n",
       "  <tbody>\n",
       "    <tr>\n",
       "      <th>0</th>\n",
       "      <td>Analyst</td>\n",
       "      <td>EY</td>\n",
       "      <td>None</td>\n",
       "      <td>Bengaluru</td>\n",
       "      <td>None</td>\n",
       "      <td></td>\n",
       "      <td>Starts in 1-3 months</td>\n",
       "    </tr>\n",
       "    <tr>\n",
       "      <th>1</th>\n",
       "      <td>Analyst</td>\n",
       "      <td>Deloitte Consulting</td>\n",
       "      <td>3-6 Yrs</td>\n",
       "      <td>Bengaluru</td>\n",
       "      <td>Provide Level 1 &amp; 2 support for CAD/CAE applic...</td>\n",
       "      <td>PLM, Supply chain, Delmia, HyperMesh, Data man...</td>\n",
       "      <td>4 days ago</td>\n",
       "    </tr>\n",
       "    <tr>\n",
       "      <th>2</th>\n",
       "      <td>Analyst</td>\n",
       "      <td>Goldman Sachs</td>\n",
       "      <td>1-3 Yrs</td>\n",
       "      <td>Bengaluru</td>\n",
       "      <td>Bachelor s degree in a relevant fieldRequired ...</td>\n",
       "      <td>python, project management, confluence, proces...</td>\n",
       "      <td>2 days ago</td>\n",
       "    </tr>\n",
       "    <tr>\n",
       "      <th>3</th>\n",
       "      <td>Analyst</td>\n",
       "      <td>Grant Thornton</td>\n",
       "      <td>0-1 Yrs</td>\n",
       "      <td>Bengaluru</td>\n",
       "      <td>Bachelor / Post Graduation degree along with ....</td>\n",
       "      <td>microsoft office applications, data research, ...</td>\n",
       "      <td>Today</td>\n",
       "    </tr>\n",
       "    <tr>\n",
       "      <th>4</th>\n",
       "      <td>Analyst</td>\n",
       "      <td>Grant Thornton</td>\n",
       "      <td>2-4 Yrs</td>\n",
       "      <td>Bengaluru, Kolkata</td>\n",
       "      <td>Conduct and interact with US team via Skype ca...</td>\n",
       "      <td>analysts, project management, auditing, accoun...</td>\n",
       "      <td>1 day ago</td>\n",
       "    </tr>\n",
       "  </tbody>\n",
       "</table>\n",
       "</div>"
      ],
      "text/plain": [
       "     title              company experience            location  \\\n",
       "0  Analyst                   EY       None           Bengaluru   \n",
       "1  Analyst  Deloitte Consulting    3-6 Yrs           Bengaluru   \n",
       "2  Analyst        Goldman Sachs    1-3 Yrs           Bengaluru   \n",
       "3  Analyst       Grant Thornton    0-1 Yrs           Bengaluru   \n",
       "4  Analyst       Grant Thornton    2-4 Yrs  Bengaluru, Kolkata   \n",
       "\n",
       "                                         description  \\\n",
       "0                                               None   \n",
       "1  Provide Level 1 & 2 support for CAD/CAE applic...   \n",
       "2  Bachelor s degree in a relevant fieldRequired ...   \n",
       "3  Bachelor / Post Graduation degree along with ....   \n",
       "4  Conduct and interact with US team via Skype ca...   \n",
       "\n",
       "                                              skills                posted  \n",
       "0                                                     Starts in 1-3 months  \n",
       "1  PLM, Supply chain, Delmia, HyperMesh, Data man...            4 days ago  \n",
       "2  python, project management, confluence, proces...            2 days ago  \n",
       "3  microsoft office applications, data research, ...                 Today  \n",
       "4  analysts, project management, auditing, accoun...             1 day ago  "
      ]
     },
     "execution_count": 16,
     "metadata": {},
     "output_type": "execute_result"
    }
   ],
   "source": [
    "# Show preview\n",
    "df.head()"
   ]
  },
  {
   "cell_type": "code",
   "execution_count": 17,
   "id": "ade70688",
   "metadata": {},
   "outputs": [
    {
     "name": "stdout",
     "output_type": "stream",
     "text": [
      " Saved to naukri_jobs_bengaluru.csv\n"
     ]
    }
   ],
   "source": [
    "# Save as CSV\n",
    "df.to_csv(\"/Users/priyankamalavade/Desktop/job-market-skill-analyzer/data/raw/naukri_jobs_bengaluru.csv\", index=False)\n",
    "print(\" Saved to naukri_jobs_bengaluru.csv\")"
   ]
  },
  {
   "cell_type": "markdown",
   "id": "9b879be7",
   "metadata": {},
   "source": [
    "## DUCKDB"
   ]
  },
  {
   "cell_type": "code",
   "execution_count": 18,
   "id": "7c117eba",
   "metadata": {},
   "outputs": [],
   "source": [
    "import duckdb"
   ]
  },
  {
   "cell_type": "code",
   "execution_count": 20,
   "id": "a07ee224",
   "metadata": {},
   "outputs": [],
   "source": [
    "# Connect to your DuckDB database\n",
    "con = duckdb.connect(r\"/Users/priyankamalavade/Desktop/job-market-skill-analyzer/data/jobs.duckdb\")\n"
   ]
  },
  {
   "cell_type": "code",
   "execution_count": 21,
   "id": "a0d924d8",
   "metadata": {},
   "outputs": [
    {
     "name": "stdout",
     "output_type": "stream",
     "text": [
      "       name\n",
      "0  raw_jobs\n"
     ]
    }
   ],
   "source": [
    "# Show tables\n",
    "print(con.execute(\"SHOW TABLES\").fetchdf())\n"
   ]
  },
  {
   "cell_type": "code",
   "execution_count": 22,
   "id": "4dfb92c6",
   "metadata": {},
   "outputs": [
    {
     "name": "stdout",
     "output_type": "stream",
     "text": [
      "   count_star()\n",
      "0          1080\n"
     ]
    }
   ],
   "source": [
    "# Count rows\n",
    "print(con.execute(\"SELECT COUNT(*) FROM raw_jobs\").fetchdf())\n"
   ]
  },
  {
   "cell_type": "code",
   "execution_count": 23,
   "id": "b6c593e9",
   "metadata": {},
   "outputs": [
    {
     "name": "stdout",
     "output_type": "stream",
     "text": [
      "     title              company experience            location  \\\n",
      "0  Analyst                   EY       None           Bengaluru   \n",
      "1  Analyst  Deloitte Consulting    3-6 Yrs           Bengaluru   \n",
      "2  Analyst        Goldman Sachs    1-3 Yrs           Bengaluru   \n",
      "3  Analyst       Grant Thornton    0-1 Yrs           Bengaluru   \n",
      "4  Analyst       Grant Thornton    2-4 Yrs  Bengaluru, Kolkata   \n",
      "\n",
      "                                         description  \\\n",
      "0                                               None   \n",
      "1  Provide Level 1 & 2 support for CAD/CAE applic...   \n",
      "2  Bachelor s degree in a relevant fieldRequired ...   \n",
      "3  Bachelor / Post Graduation degree along with ....   \n",
      "4  Conduct and interact with US team via Skype ca...   \n",
      "\n",
      "                                              skills                posted  \n",
      "0                                               None  Starts in 1-3 months  \n",
      "1  PLM, Supply chain, Delmia, HyperMesh, Data man...            4 days ago  \n",
      "2  python, project management, confluence, proces...            2 days ago  \n",
      "3  microsoft office applications, data research, ...                 Today  \n",
      "4  analysts, project management, auditing, accoun...             1 day ago  \n"
     ]
    }
   ],
   "source": [
    "# Preview first 5 rows\n",
    "print(con.execute(\"SELECT * FROM raw_jobs LIMIT 5\").fetchdf())"
   ]
  }
 ],
 "metadata": {
  "kernelspec": {
   "display_name": "venv",
   "language": "python",
   "name": "python3"
  },
  "language_info": {
   "codemirror_mode": {
    "name": "ipython",
    "version": 3
   },
   "file_extension": ".py",
   "mimetype": "text/x-python",
   "name": "python",
   "nbconvert_exporter": "python",
   "pygments_lexer": "ipython3",
   "version": "3.13.7"
  }
 },
 "nbformat": 4,
 "nbformat_minor": 5
}
